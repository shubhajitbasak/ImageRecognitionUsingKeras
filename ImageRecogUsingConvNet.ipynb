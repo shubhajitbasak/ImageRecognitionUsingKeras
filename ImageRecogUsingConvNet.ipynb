{
 "cells": [
  {
   "cell_type": "markdown",
   "metadata": {},
   "source": [
    "### Image Recognition Using Deep Convolution Network\n",
    "#### Author : Shubhajit Basak"
   ]
  },
  {
   "cell_type": "markdown",
   "metadata": {},
   "source": [
    "#### Part I \n",
    "#### Triplet Loss Function\n",
    "In this part we are designing a Program a network in Keras with a triplet loss function"
   ]
  },
  {
   "cell_type": "markdown",
   "metadata": {},
   "source": [
    "#### Load all the Packages"
   ]
  },
  {
   "cell_type": "code",
   "execution_count": 1,
   "metadata": {},
   "outputs": [
    {
     "name": "stderr",
     "output_type": "stream",
     "text": [
      "C:\\ProgramData\\Anaconda3\\envs\\ratenv\\lib\\site-packages\\h5py\\__init__.py:36: FutureWarning: Conversion of the second argument of issubdtype from `float` to `np.floating` is deprecated. In future, it will be treated as `np.float64 == np.dtype(float).type`.\n",
      "  from ._conv import register_converters as _register_converters\n",
      "Using TensorFlow backend.\n"
     ]
    }
   ],
   "source": [
    "from keras.models import Model, Sequential\n",
    "from keras.optimizers import Adam\n",
    "from keras.layers import Dense, Dropout, Flatten, Convolution2D, MaxPooling2D\n",
    "from keras.layers import Input, Lambda\n",
    "from keras.utils import np_utils\n",
    "from keras.datasets import mnist\n",
    "from emnist import extract_training_samples\n",
    "from keras import backend as K\n",
    "import numpy as np\n",
    "import matplotlib.pyplot as plt\n",
    "import keras"
   ]
  },
  {
   "cell_type": "markdown",
   "metadata": {},
   "source": [
    "#### Get Data"
   ]
  },
  {
   "cell_type": "code",
   "execution_count": 2,
   "metadata": {},
   "outputs": [],
   "source": [
    "# Get data \n",
    "(X_train, y_train), (X_test, y_test) = mnist.load_data()\n",
    "X_train = X_train.reshape(X_train.shape[0], 28, 28, 1)\n",
    "X_test = X_test.reshape(X_test.shape[0], 28, 28, 1)\n",
    "X_train = X_train.astype('float32')\n",
    "X_test = X_test.astype('float32')\n",
    "X_train /= 255\n",
    "X_test /= 255"
   ]
  },
  {
   "cell_type": "markdown",
   "metadata": {},
   "source": [
    "I am also using the EMNIST Dataset to get some sample data from the alphabet dataset to train for the unknown data label"
   ]
  },
  {
   "cell_type": "code",
   "execution_count": 3,
   "metadata": {},
   "outputs": [],
   "source": [
    "alpha_img, alpha_labels = extract_training_samples('letters')"
   ]
  },
  {
   "cell_type": "markdown",
   "metadata": {},
   "source": [
    "#### Part I - Section 1 :\n",
    "#### Model with Triplet Loss Design "
   ]
  },
  {
   "cell_type": "code",
   "execution_count": 4,
   "metadata": {},
   "outputs": [],
   "source": [
    "# Get the image \n",
    "def get_image(label, test=False):\n",
    "    \"\"\"Choose an image from our training or test data with the\n",
    "    given label.\"\"\"\n",
    "    if test:\n",
    "        y = y_test; X = X_test\n",
    "    else:\n",
    "        y = y_train; X = X_train\n",
    "    idx = np.random.randint(len(y))\n",
    "    while y[idx] != label:\n",
    "        # keep searching randomly!\n",
    "        idx = np.random.randint(len(y))\n",
    "    return X[idx]"
   ]
  },
  {
   "cell_type": "code",
   "execution_count": 5,
   "metadata": {},
   "outputs": [],
   "source": [
    "# Get triplet\n",
    "def get_triplet(test=False):\n",
    "    \"\"\"Choose a triplet (anchor, positive, negative) of images\n",
    "    such that anchor and positive have the same label and\n",
    "    anchor and negative have different labels.\"\"\"\n",
    "    n = a = np.random.randint(10)\n",
    "    while n == a:\n",
    "        # keep searching randomly!\n",
    "        n = np.random.randint(10)\n",
    "    a, p = get_image(a, test), get_image(a, test)\n",
    "    n = get_image(n, test)\n",
    "    return a, p, n"
   ]
  },
  {
   "cell_type": "code",
   "execution_count": 6,
   "metadata": {},
   "outputs": [],
   "source": [
    "# Generate Triplet\n",
    "def generate_triplets(test=False):\n",
    "    \"\"\"Generate an un-ending stream (ie a generator) of triplets for\n",
    "    training or test.\"\"\"\n",
    "    while True:\n",
    "        list_a = []\n",
    "        list_p = []\n",
    "        list_n = []\n",
    "\n",
    "        for i in range(batch_size):\n",
    "            a, p, n = get_triplet(test)\n",
    "            list_a.append(a)\n",
    "            list_p.append(p)\n",
    "            list_n.append(n)\n",
    "            \n",
    "        A = np.array(list_a, dtype='float32')\n",
    "        P = np.array(list_p, dtype='float32')\n",
    "        N = np.array(list_n, dtype='float32')\n",
    "        # a \"dummy\" label which will come in to our identity loss\n",
    "        # function below as y_true. We'll ignore it.\n",
    "        label = np.ones(batch_size) \n",
    "        yield [A, P, N], label"
   ]
  },
  {
   "cell_type": "code",
   "execution_count": 7,
   "metadata": {},
   "outputs": [],
   "source": [
    "############## Loss ###########################\n",
    "\n",
    "def identity_loss(y_true, y_pred):\n",
    "    \"\"\"This loss function just takes the mean of y_pred. Because of the\n",
    "    way we wire the network (see complete_model below), y_pred is the\n",
    "    output of the triplet loss, so minimising it is what we want to\n",
    "    do.\"\"\"\n",
    "    return K.mean(y_pred)\n",
    "\n",
    "def triplet_loss(x):\n",
    "    \"\"\"The triplet loss is ||A - P|| - ||A - N|| + alpha, where ||.||\n",
    "    is the Euclidean norm. Notice that this is not a loss function in the\n",
    "    format expected by Keras, ie f(y_true, y_pred).\"\"\"\n",
    "    anchor, positive, negative = x\n",
    "    \n",
    "    # XXX YOUR CODE HERE: CALCULATE loss. USE K.\n",
    "    pos_dist = K.sum(K.square(anchor-positive), axis=-1)\n",
    "    neg_dist = K.sum(K.square(anchor-negative), axis=-1)\n",
    "    loss = K.sum(K.maximum(pos_dist - neg_dist + alpha, 0), axis=0)\n",
    "    \n",
    "    return loss"
   ]
  },
  {
   "cell_type": "code",
   "execution_count": 8,
   "metadata": {},
   "outputs": [],
   "source": [
    "# Embedding Model - The following model will take the image and return the embedding layer \n",
    "def embedding_model():\n",
    "    \"\"\"A tiny model similar to the network we used for MNIST\n",
    "    classification. We assume the architecture should be good for\n",
    "    MNIST embedding. Its input is an image and output is an embedding,\n",
    "    not a classification, so the final layer is not a softmax. We\n",
    "    don't compile or add a loss since this will become a component in\n",
    "    the complete model below.\"\"\"\n",
    "    input_shape = (imsize,imsize,1)\n",
    "    model = Sequential()\n",
    "\n",
    "    # XXX YOUR CODE HERE: ADD SOME LAYERS ENDING IN AN OUTPUT LAYER\n",
    "    # APPROPRIATE FOR THE EMBEDDING.\n",
    "    model.add(Convolution2D(32, kernel_size=(3, 3),\n",
    "                 activation='relu',\n",
    "                 input_shape=input_shape))\n",
    "    model.add(Convolution2D(64, (3, 3), activation='relu'))\n",
    "    model.add(MaxPooling2D(pool_size=(2, 2)))\n",
    "    model.add(Dropout(0.25))\n",
    "    model.add(Flatten())\n",
    "    model.add(Dense(128, activation='relu'))\n",
    "    model.add(Dropout(0.5))\n",
    "    model.add(Dense(embedding_dim))\n",
    "    \n",
    "    return model"
   ]
  },
  {
   "cell_type": "code",
   "execution_count": 9,
   "metadata": {},
   "outputs": [],
   "source": [
    "def complete_model(base_model):\n",
    "    \"\"\"This part of the model is quite tricky. Rather than a Sequential\n",
    "    model, we declare a Model and say which are its inputs and\n",
    "    outputs, and we declare how the outputs are calculated from the\n",
    "    inputs. In particular, there are no layers in this model, *other\n",
    "    than* the layers in the embedding model discussed above.\n",
    "\n",
    "    A further complication is that our triplet loss can't be\n",
    "    calculated as a function of y_true and y_predicted as\n",
    "    usual. Instead we calculate the triplet loss as an extra Lambda\n",
    "    layer. Then the Model's loss is set to be equal to the triplet\n",
    "    loss via the identity function.\"\"\"\n",
    "\n",
    "    \n",
    "    input_1 = Input((imsize, imsize, 1))\n",
    "    input_2 = Input((imsize, imsize, 1))\n",
    "    input_3 = Input((imsize, imsize, 1))\n",
    "\n",
    "    # call the base_model three times to get A, P, N\n",
    "\n",
    "    # XXX YOUR CODE HERE.\n",
    "    \n",
    "    A = base_model(input_1)\n",
    "    P = base_model(input_2)\n",
    "    N = base_model(input_3)\n",
    "    \n",
    "    loss = Lambda(triplet_loss)([A, P, N]) \n",
    "    model = Model(inputs=[input_1, input_2, input_3], outputs=loss)\n",
    "    model.compile(loss=identity_loss, optimizer=Adam(LR))\n",
    "    return model"
   ]
  },
  {
   "cell_type": "markdown",
   "metadata": {},
   "source": [
    "#### Part I - Section 2 :\n",
    "#### Train the Model with MNIST Dataset"
   ]
  },
  {
   "cell_type": "code",
   "execution_count": 10,
   "metadata": {},
   "outputs": [
    {
     "name": "stdout",
     "output_type": "stream",
     "text": [
      "__________________________________________________________________________________________________\n",
      "Layer (type)                    Output Shape         Param #     Connected to                     \n",
      "==================================================================================================\n",
      "input_1 (InputLayer)            (None, 28, 28, 1)    0                                            \n",
      "__________________________________________________________________________________________________\n",
      "input_2 (InputLayer)            (None, 28, 28, 1)    0                                            \n",
      "__________________________________________________________________________________________________\n",
      "input_3 (InputLayer)            (None, 28, 28, 1)    0                                            \n",
      "__________________________________________________________________________________________________\n",
      "sequential_1 (Sequential)       (None, 2)            1198850     input_1[0][0]                    \n",
      "                                                                 input_2[0][0]                    \n",
      "                                                                 input_3[0][0]                    \n",
      "__________________________________________________________________________________________________\n",
      "lambda_1 (Lambda)               ()                   0           sequential_1[1][0]               \n",
      "                                                                 sequential_1[2][0]               \n",
      "                                                                 sequential_1[3][0]               \n",
      "==================================================================================================\n",
      "Total params: 1,198,850\n",
      "Trainable params: 1,198,850\n",
      "Non-trainable params: 0\n",
      "__________________________________________________________________________________________________\n",
      "None\n",
      "Epoch 1/30\n",
      " - 6s - loss: 9.0591 - val_loss: 6.5206\n",
      "Epoch 2/30\n",
      " - 2s - loss: 7.1883 - val_loss: 5.5468\n",
      "Epoch 3/30\n",
      " - 2s - loss: 5.9613 - val_loss: 4.3437\n",
      "Epoch 4/30\n",
      " - 2s - loss: 5.3826 - val_loss: 3.7021\n",
      "Epoch 5/30\n",
      " - 2s - loss: 4.8230 - val_loss: 3.3068\n",
      "Epoch 6/30\n",
      " - 2s - loss: 4.0947 - val_loss: 3.1100\n",
      "Epoch 7/30\n",
      " - 2s - loss: 4.4736 - val_loss: 2.9656\n",
      "Epoch 8/30\n",
      " - 2s - loss: 4.0776 - val_loss: 2.8101\n",
      "Epoch 9/30\n",
      " - 2s - loss: 3.7110 - val_loss: 2.6377\n",
      "Epoch 10/30\n",
      " - 2s - loss: 3.7829 - val_loss: 2.6597\n",
      "Epoch 11/30\n",
      " - 2s - loss: 3.2682 - val_loss: 2.5953\n",
      "Epoch 12/30\n",
      " - 2s - loss: 3.4765 - val_loss: 2.4374\n",
      "Epoch 13/30\n",
      " - 2s - loss: 3.2182 - val_loss: 2.1903\n",
      "Epoch 14/30\n",
      " - 2s - loss: 3.2254 - val_loss: 2.1751\n",
      "Epoch 15/30\n",
      " - 2s - loss: 2.9432 - val_loss: 1.9576\n",
      "Epoch 16/30\n",
      " - 2s - loss: 3.0006 - val_loss: 1.9760\n",
      "Epoch 17/30\n",
      " - 2s - loss: 2.8069 - val_loss: 1.9209\n",
      "Epoch 18/30\n",
      " - 2s - loss: 2.8640 - val_loss: 1.9471\n",
      "Epoch 19/30\n",
      " - 2s - loss: 2.9037 - val_loss: 1.8959\n",
      "Epoch 20/30\n",
      " - 2s - loss: 2.5511 - val_loss: 1.8059\n",
      "Epoch 21/30\n",
      " - 2s - loss: 2.4445 - val_loss: 1.5485\n",
      "Epoch 22/30\n",
      " - 2s - loss: 2.5770 - val_loss: 1.7637\n",
      "Epoch 23/30\n",
      " - 2s - loss: 2.5443 - val_loss: 1.7699\n",
      "Epoch 24/30\n",
      " - 2s - loss: 2.4380 - val_loss: 1.7021\n",
      "Epoch 25/30\n",
      " - 2s - loss: 2.6580 - val_loss: 1.6346\n",
      "Epoch 26/30\n",
      " - 2s - loss: 2.1248 - val_loss: 1.5985\n",
      "Epoch 27/30\n",
      " - 2s - loss: 2.6004 - val_loss: 1.5372\n",
      "Epoch 28/30\n",
      " - 2s - loss: 2.2581 - val_loss: 1.4067\n",
      "Epoch 29/30\n",
      " - 2s - loss: 2.2633 - val_loss: 1.5866\n",
      "Epoch 30/30\n",
      " - 2s - loss: 2.2474 - val_loss: 1.3583\n"
     ]
    }
   ],
   "source": [
    "############## Settings ###########################\n",
    "\n",
    "imsize = 28\n",
    "\n",
    "# XXX you might like to play with some of these hyperparameters\n",
    "batch_size = 100\n",
    "# 2D is interesting for visualisation, but higher allows more \"space\"\n",
    "# to achieve accuracy in complex domains, eg 128 is common for\n",
    "# faces. but MNIST is simple, so maybe 2 is enough for us anyway.\n",
    "embedding_dim = 2 \n",
    "LR = 0.0001 # be careful: too large will be unstable for our data\n",
    "EPOCHS = 30\n",
    "alpha = 0.1 # interesting to think about different values\n",
    "\n",
    "\n",
    "############## Main ###############################\n",
    "\n",
    "# create the data generators\n",
    "train_generator = generate_triplets()\n",
    "test_generator = generate_triplets(test=True)\n",
    "\n",
    "# instantiate the model and take a look\n",
    "\n",
    "# XXX YOUR CODE HERE: create the embedding model and then use\n",
    "# that to create the complete model\n",
    "\n",
    "base_model = embedding_model()\n",
    "model = complete_model(base_model)\n",
    "\n",
    "\n",
    "print(model.summary())\n",
    "\n",
    "# fit\n",
    "\n",
    "# XXX YOUR CODE HERE: call fit_generator() to fit the model.\n",
    "\n",
    "history = model.fit_generator(train_generator, \n",
    "                    validation_data=test_generator, \n",
    "                    epochs=EPOCHS, \n",
    "                    verbose=2, \n",
    "                    steps_per_epoch=20, \n",
    "                    validation_steps=30)\n",
    "# model.save_weights(\"model.h5\")"
   ]
  },
  {
   "cell_type": "markdown",
   "metadata": {},
   "source": [
    "#### Part I - Section 3 :\n",
    "#### Plot the loss over epoch to show its decreasing over epoch "
   ]
  },
  {
   "cell_type": "code",
   "execution_count": 11,
   "metadata": {},
   "outputs": [
    {
     "name": "stdout",
     "output_type": "stream",
     "text": [
      "dict_keys(['val_loss', 'loss'])\n"
     ]
    },
    {
     "data": {
      "image/png": "[encoded data removed]",
      "text/plain": [
       "<Figure size 432x288 with 1 Axes>"
      ]
     },
     "metadata": {},
     "output_type": "display_data"
    }
   ],
   "source": [
    "print(history.history.keys())\n",
    "# \"Loss\"\n",
    "plt.plot(history.history['loss'])\n",
    "plt.plot(history.history['val_loss'])\n",
    "plt.title('Fig 1 : Model loss for Training and Test Dataset')\n",
    "plt.ylabel('loss')\n",
    "plt.xlabel('epoch')\n",
    "plt.legend(['train', 'validation'], loc='upper left')\n",
    "plt.savefig(\"LossTriplet.png\")\n",
    "plt.show()"
   ]
  },
  {
   "cell_type": "markdown",
   "metadata": {},
   "source": [
    "#### Visualise the Embedding (save the fihure in the local disk)"
   ]
  },
  {
   "cell_type": "markdown",
   "metadata": {},
   "source": [
    "To get the embedding I am creating a new Model with the existing Trained Model above only using the Embedding Layer (Base Model). This will also be used while building the recgnitionfunctionfunction. We do not to need to train this model, input of this model is the image (28 X 28 X 1) and output is thye embedding layer   "
   ]
  },
  {
   "cell_type": "code",
   "execution_count": 12,
   "metadata": {},
   "outputs": [
    {
     "name": "stdout",
     "output_type": "stream",
     "text": [
      "_________________________________________________________________\n",
      "Layer (type)                 Output Shape              Param #   \n",
      "=================================================================\n",
      "input_4 (InputLayer)         (None, 28, 28, 1)         0         \n",
      "_________________________________________________________________\n",
      "sequential_1 (Sequential)    (None, 2)                 1198850   \n",
      "=================================================================\n",
      "Total params: 1,198,850\n",
      "Trainable params: 1,198,850\n",
      "Non-trainable params: 0\n",
      "_________________________________________________________________\n"
     ]
    }
   ],
   "source": [
    "input_embd = Input((imsize, imsize, 1)) # Input layout with the shape of embedding\n",
    "model_embd = Model(inputs=input_embd, outputs=base_model(input_embd))\n",
    "model_embd.summary()"
   ]
  },
  {
   "cell_type": "code",
   "execution_count": 13,
   "metadata": {},
   "outputs": [],
   "source": [
    "################# Visualisation ###################\n",
    "\n",
    "# we add an extra 28 pixels to allow for images whose bottom-left is\n",
    "# at the top or right border\n",
    "canvas_size = 4000\n",
    "canvas = np.zeros((canvas_size+imsize, canvas_size+imsize), dtype=float)\n",
    "\n",
    "def loc2pix(x, size):\n",
    "\n",
    "    \"\"\"All values in x are in [-1, 1], we want it in [0, size].\"\"\"\n",
    "    # add 1 to make it non-negative, squeeze to remove trivial\n",
    "    # dimension and transform.\n",
    "    x = (((1.0 + x.squeeze()) / 2) * size).astype(int)\n",
    "    assert np.all(x >= 0) and np.all(x < size)\n",
    "    return x\n",
    "\n",
    "for ib, batch in enumerate(test_generator):\n",
    "    APN, label = batch\n",
    "    for i in range(batch_size):\n",
    "        \n",
    "        # get the embedding for a, p, n: each should be in [-1, 1]^2\n",
    "        \n",
    "        # XXX YOUR CODE HERE. Set a to be the embedding of APN[0][i:i+1],\n",
    "        # and similarly p for APN[1][i:i+1] and n for APN[2][i:i+1].\n",
    "        # Think about what you need to call.\n",
    "        a = model_embd.predict(APN[0][i:i+1])\n",
    "        p = model_embd.predict(APN[1][i:i+1])\n",
    "        n = model_embd.predict(APN[2][i:i+1])\n",
    "        \n",
    "        # transform a, p, n to pixel-space [0, 4028]^2\n",
    "        a = loc2pix(a, canvas_size)\n",
    "        p = loc2pix(p, canvas_size)\n",
    "        n = loc2pix(n, canvas_size)\n",
    "\n",
    "        # paint the image of each digit onto the canvas\n",
    "        canvas[a[0]:a[0]+imsize, a[1]:a[1]+imsize] = APN[0][i].squeeze()\n",
    "        canvas[p[0]:p[0]+imsize, p[1]:p[1]+imsize] = APN[1][i].squeeze()\n",
    "        canvas[n[0]:n[0]+imsize, n[1]:n[1]+imsize] = APN[2][i].squeeze()\n",
    "        \n",
    "    break # one batch of 100 samples is enough for visualisation\n",
    "\n",
    "fig, ax = plt.subplots(figsize=(40, 40)) # we have to make it large to avoid subsampling\n",
    "ax.matshow(canvas)\n",
    "plt.title(\"Fig 2 : Keras MNIST Triplet Layout\")\n",
    "plt.savefig(\"keras_mnist_triplet_layout.png\")\n",
    "plt.close()\n"
   ]
  },
  {
   "cell_type": "markdown",
   "metadata": {},
   "source": [
    "#### Part I - Section 4 :\n",
    "#### Program a recognition function "
   ]
  },
  {
   "cell_type": "markdown",
   "metadata": {},
   "source": [
    "We have to build a recognition function which will take the images and predict if the images are of numbers, it should also predict unknown label as we provide some image other than numbers. We will take advantage of the 2 dimensional embedding space, as the embedding for unknown images will be far from the numbers in the embedding space. We will build a new Neural Network Model with one dense and one softmax layer with 11 categories as one extra for the unknown label.\n",
    "\n",
    "To train the model we need some dummy data for the unknown label, for this we will use 10000 images of characters from the EMNIST dataset and predict their embedding from our pretrained model that will create data for the unknown label in our new model."
   ]
  },
  {
   "cell_type": "code",
   "execution_count": 14,
   "metadata": {},
   "outputs": [],
   "source": [
    "# Number of classes 11 as we have an extra label for unknown image\n",
    "num_classes = 11\n",
    "# Get the embedding for X_Train\n",
    "matTrain = model_embd.predict(X_train)\n",
    "# Get the embedding for Unknown Lebel Images (10000 from EMNIST Character dataset)\n",
    "matTrain_ukn = model_embd.predict(alpha_img[0:10000].reshape(10000,28,28,1))\n",
    "# Concatenate to get 70000 training data for new model\n",
    "matTrainUpdt = np.concatenate((matTrain,matTrain_ukn),axis=0)\n",
    "\n",
    "# Create label data \n",
    "# We will set label as 10 for the unknown labels\n",
    "# which we will append with the existing y_train\n",
    "y1 = y_train.tolist()\n",
    "y1.extend([10]*10000)\n",
    "y1 = np.array(y1)\n",
    "# Create One Hot Vector for the newly created y_train data\n",
    "y_train_cat = keras.utils.to_categorical(y1, num_classes)"
   ]
  },
  {
   "cell_type": "markdown",
   "metadata": {},
   "source": [
    "Create the new model which will take the embedding data and pass it through a single dense layer and a softmax layer with 11 nodes as it has 11 categories"
   ]
  },
  {
   "cell_type": "code",
   "execution_count": 15,
   "metadata": {},
   "outputs": [
    {
     "name": "stdout",
     "output_type": "stream",
     "text": [
      "_________________________________________________________________\n",
      "Layer (type)                 Output Shape              Param #   \n",
      "=================================================================\n",
      "dense_3 (Dense)              (None, 32)                96        \n",
      "_________________________________________________________________\n",
      "dense_4 (Dense)              (None, 11)                363       \n",
      "=================================================================\n",
      "Total params: 459\n",
      "Trainable params: 459\n",
      "Non-trainable params: 0\n",
      "_________________________________________________________________\n",
      "None\n"
     ]
    }
   ],
   "source": [
    "model_pred_img = Sequential()\n",
    "model_pred_img.add(Dense(32, activation='relu',input_shape=(embedding_dim,))) # Dense Layer with RELU\n",
    "model_pred_img.add(Dense(num_classes, activation='softmax')) # Dense Layer with Softmax\n",
    "# Compile model with categorical cross entropy\n",
    "model_pred_img.compile(loss=keras.losses.categorical_crossentropy,\n",
    "            optimizer=keras.optimizers.Adam(),\n",
    "            metrics=['accuracy'])\n",
    "print(model_pred_img.summary())"
   ]
  },
  {
   "cell_type": "code",
   "execution_count": 16,
   "metadata": {},
   "outputs": [
    {
     "name": "stdout",
     "output_type": "stream",
     "text": [
      "Epoch 1/10\n",
      "70000/70000 [==============================] - ETA: 2:42 - loss: 4.6916 - acc: 0.030 - ETA: 16s - loss: 4.0991 - acc: 0.045 - ETA: 9s - loss: 3.9145 - acc: 0.0538 - ETA: 7s - loss: 3.8231 - acc: 0.065 - ETA: 5s - loss: 3.5434 - acc: 0.084 - ETA: 5s - loss: 3.3219 - acc: 0.104 - ETA: 4s - loss: 3.1470 - acc: 0.134 - ETA: 4s - loss: 2.9732 - acc: 0.168 - ETA: 3s - loss: 2.8612 - acc: 0.201 - ETA: 3s - loss: 2.7649 - acc: 0.229 - ETA: 3s - loss: 2.6901 - acc: 0.255 - ETA: 3s - loss: 2.6003 - acc: 0.286 - ETA: 3s - loss: 2.5435 - acc: 0.304 - ETA: 2s - loss: 2.4917 - acc: 0.321 - ETA: 2s - loss: 2.4322 - acc: 0.338 - ETA: 2s - loss: 2.3919 - acc: 0.348 - ETA: 2s - loss: 2.3460 - acc: 0.359 - ETA: 2s - loss: 2.3166 - acc: 0.370 - ETA: 2s - loss: 2.2891 - acc: 0.382 - ETA: 2s - loss: 2.2541 - acc: 0.399 - ETA: 2s - loss: 2.2304 - acc: 0.410 - ETA: 1s - loss: 2.2082 - acc: 0.420 - ETA: 1s - loss: 2.1891 - acc: 0.428 - ETA: 1s - loss: 2.1636 - acc: 0.437 - ETA: 1s - loss: 2.1455 - acc: 0.444 - ETA: 1s - loss: 2.1218 - acc: 0.453 - ETA: 1s - loss: 2.1064 - acc: 0.458 - ETA: 1s - loss: 2.0855 - acc: 0.465 - ETA: 1s - loss: 2.0712 - acc: 0.471 - ETA: 1s - loss: 2.0558 - acc: 0.476 - ETA: 1s - loss: 2.0430 - acc: 0.481 - ETA: 1s - loss: 2.0262 - acc: 0.487 - ETA: 1s - loss: 2.0138 - acc: 0.490 - ETA: 1s - loss: 2.0016 - acc: 0.494 - ETA: 0s - loss: 1.9892 - acc: 0.500 - ETA: 0s - loss: 1.9740 - acc: 0.507 - ETA: 0s - loss: 1.9634 - acc: 0.512 - ETA: 0s - loss: 1.9530 - acc: 0.516 - ETA: 0s - loss: 1.9414 - acc: 0.521 - ETA: 0s - loss: 1.9272 - acc: 0.528 - ETA: 0s - loss: 1.9159 - acc: 0.533 - ETA: 0s - loss: 1.9051 - acc: 0.536 - ETA: 0s - loss: 1.8951 - acc: 0.541 - ETA: 0s - loss: 1.8816 - acc: 0.545 - ETA: 0s - loss: 1.8718 - acc: 0.549 - ETA: 0s - loss: 1.8588 - acc: 0.553 - ETA: 0s - loss: 1.8498 - acc: 0.556 - ETA: 0s - loss: 1.8402 - acc: 0.559 - ETA: 0s - loss: 1.8316 - acc: 0.562 - 3s 42us/step - loss: 1.8210 - acc: 0.5657\n",
      "Epoch 2/10\n",
      "70000/70000 [==============================] - ETA: 4s - loss: 1.2530 - acc: 0.740 - ETA: 2s - loss: 1.3241 - acc: 0.720 - ETA: 2s - loss: 1.3282 - acc: 0.723 - ETA: 2s - loss: 1.3193 - acc: 0.727 - ETA: 2s - loss: 1.3067 - acc: 0.740 - ETA: 2s - loss: 1.3028 - acc: 0.740 - ETA: 2s - loss: 1.3007 - acc: 0.737 - ETA: 2s - loss: 1.2932 - acc: 0.735 - ETA: 2s - loss: 1.2884 - acc: 0.733 - ETA: 2s - loss: 1.2808 - acc: 0.731 - ETA: 2s - loss: 1.2753 - acc: 0.730 - ETA: 2s - loss: 1.2710 - acc: 0.732 - ETA: 1s - loss: 1.2629 - acc: 0.735 - ETA: 1s - loss: 1.2567 - acc: 0.736 - ETA: 1s - loss: 1.2486 - acc: 0.739 - ETA: 1s - loss: 1.2427 - acc: 0.741 - ETA: 1s - loss: 1.2373 - acc: 0.742 - ETA: 1s - loss: 1.2292 - acc: 0.743 - ETA: 1s - loss: 1.2237 - acc: 0.744 - ETA: 1s - loss: 1.2171 - acc: 0.746 - ETA: 1s - loss: 1.2091 - acc: 0.747 - ETA: 1s - loss: 1.2030 - acc: 0.749 - ETA: 1s - loss: 1.1946 - acc: 0.749 - ETA: 1s - loss: 1.1894 - acc: 0.750 - ETA: 1s - loss: 1.1814 - acc: 0.751 - ETA: 1s - loss: 1.1761 - acc: 0.752 - ETA: 1s - loss: 1.1698 - acc: 0.753 - ETA: 1s - loss: 1.1633 - acc: 0.755 - ETA: 1s - loss: 1.1580 - acc: 0.757 - ETA: 1s - loss: 1.1524 - acc: 0.758 - ETA: 1s - loss: 1.1469 - acc: 0.759 - ETA: 0s - loss: 1.1417 - acc: 0.760 - ETA: 0s - loss: 1.1351 - acc: 0.760 - ETA: 0s - loss: 1.1300 - acc: 0.761 - ETA: 0s - loss: 1.1233 - acc: 0.762 - ETA: 0s - loss: 1.1176 - acc: 0.763 - ETA: 0s - loss: 1.1108 - acc: 0.764 - ETA: 0s - loss: 1.1052 - acc: 0.765 - ETA: 0s - loss: 1.0983 - acc: 0.767 - ETA: 0s - loss: 1.0935 - acc: 0.767 - ETA: 0s - loss: 1.0883 - acc: 0.768 - ETA: 0s - loss: 1.0825 - acc: 0.768 - ETA: 0s - loss: 1.0775 - acc: 0.769 - ETA: 0s - loss: 1.0724 - acc: 0.770 - ETA: 0s - loss: 1.0675 - acc: 0.770 - ETA: 0s - loss: 1.0616 - acc: 0.771 - ETA: 0s - loss: 1.0573 - acc: 0.772 - ETA: 0s - loss: 1.0526 - acc: 0.773 - 3s 38us/step - loss: 1.0480 - acc: 0.7738\n",
      "Epoch 3/10\n",
      "70000/70000 [==============================] - ETA: 4s - loss: 0.8842 - acc: 0.760 - ETA: 2s - loss: 0.8120 - acc: 0.790 - ETA: 2s - loss: 0.8070 - acc: 0.800 - ETA: 2s - loss: 0.8078 - acc: 0.805 - ETA: 2s - loss: 0.8083 - acc: 0.807 - ETA: 2s - loss: 0.8030 - acc: 0.809 - ETA: 2s - loss: 0.7980 - acc: 0.809 - ETA: 2s - loss: 0.7945 - acc: 0.809 - ETA: 2s - loss: 0.7893 - acc: 0.811 - ETA: 2s - loss: 0.7849 - acc: 0.812 - ETA: 2s - loss: 0.7819 - acc: 0.811 - ETA: 2s - loss: 0.7795 - acc: 0.809 - ETA: 1s - loss: 0.7773 - acc: 0.810 - ETA: 1s - loss: 0.7731 - acc: 0.812 - ETA: 1s - loss: 0.7689 - acc: 0.815 - ETA: 1s - loss: 0.7667 - acc: 0.817 - ETA: 1s - loss: 0.7606 - acc: 0.819 - ETA: 1s - loss: 0.7582 - acc: 0.820 - ETA: 1s - loss: 0.7542 - acc: 0.820 - ETA: 1s - loss: 0.7510 - acc: 0.821 - ETA: 1s - loss: 0.7492 - acc: 0.821 - ETA: 1s - loss: 0.7446 - acc: 0.822 - ETA: 1s - loss: 0.7425 - acc: 0.822 - ETA: 1s - loss: 0.7403 - acc: 0.824 - ETA: 1s - loss: 0.7375 - acc: 0.825 - ETA: 1s - loss: 0.7350 - acc: 0.824 - ETA: 1s - loss: 0.7334 - acc: 0.824 - ETA: 1s - loss: 0.7326 - acc: 0.824 - ETA: 1s - loss: 0.7304 - acc: 0.824 - ETA: 1s - loss: 0.7284 - acc: 0.823 - ETA: 1s - loss: 0.7254 - acc: 0.824 - ETA: 0s - loss: 0.7232 - acc: 0.824 - ETA: 0s - loss: 0.7212 - acc: 0.824 - ETA: 0s - loss: 0.7186 - acc: 0.824 - ETA: 0s - loss: 0.7151 - acc: 0.825 - ETA: 0s - loss: 0.7124 - acc: 0.826 - ETA: 0s - loss: 0.7098 - acc: 0.826 - ETA: 0s - loss: 0.7071 - acc: 0.827 - ETA: 0s - loss: 0.7055 - acc: 0.827 - ETA: 0s - loss: 0.7027 - acc: 0.828 - ETA: 0s - loss: 0.7013 - acc: 0.828 - ETA: 0s - loss: 0.6999 - acc: 0.828 - ETA: 0s - loss: 0.6980 - acc: 0.828 - ETA: 0s - loss: 0.6962 - acc: 0.828 - ETA: 0s - loss: 0.6938 - acc: 0.829 - ETA: 0s - loss: 0.6923 - acc: 0.829 - ETA: 0s - loss: 0.6915 - acc: 0.829 - ETA: 0s - loss: 0.6893 - acc: 0.829 - ETA: 0s - loss: 0.6876 - acc: 0.829 - 3s 38us/step - loss: 0.6866 - acc: 0.8292\n",
      "Epoch 4/10\n",
      "70000/70000 [==============================] - ETA: 4s - loss: 0.6020 - acc: 0.910 - ETA: 2s - loss: 0.6216 - acc: 0.839 - ETA: 2s - loss: 0.6037 - acc: 0.844 - ETA: 2s - loss: 0.5966 - acc: 0.845 - ETA: 2s - loss: 0.5996 - acc: 0.840 - ETA: 2s - loss: 0.5912 - acc: 0.842 - ETA: 2s - loss: 0.5958 - acc: 0.840 - ETA: 2s - loss: 0.5922 - acc: 0.841 - ETA: 2s - loss: 0.5896 - acc: 0.843 - ETA: 2s - loss: 0.5871 - acc: 0.843 - ETA: 2s - loss: 0.5843 - acc: 0.842 - ETA: 2s - loss: 0.5799 - acc: 0.843 - ETA: 1s - loss: 0.5793 - acc: 0.844 - ETA: 1s - loss: 0.5800 - acc: 0.843 - ETA: 1s - loss: 0.5782 - acc: 0.844 - ETA: 1s - loss: 0.5780 - acc: 0.842 - ETA: 1s - loss: 0.5764 - acc: 0.843 - ETA: 1s - loss: 0.5747 - acc: 0.843 - ETA: 1s - loss: 0.5726 - acc: 0.843 - ETA: 1s - loss: 0.5699 - acc: 0.844 - ETA: 1s - loss: 0.5682 - acc: 0.844 - ETA: 1s - loss: 0.5684 - acc: 0.843 - ETA: 1s - loss: 0.5681 - acc: 0.843 - ETA: 1s - loss: 0.5671 - acc: 0.844 - ETA: 1s - loss: 0.5645 - acc: 0.845 - ETA: 1s - loss: 0.5626 - acc: 0.845 - ETA: 1s - loss: 0.5613 - acc: 0.845 - ETA: 1s - loss: 0.5593 - acc: 0.846 - ETA: 1s - loss: 0.5573 - acc: 0.846 - ETA: 0s - loss: 0.5566 - acc: 0.846 - ETA: 0s - loss: 0.5556 - acc: 0.846 - ETA: 0s - loss: 0.5536 - acc: 0.847 - ETA: 0s - loss: 0.5520 - acc: 0.847 - ETA: 0s - loss: 0.5512 - acc: 0.847 - ETA: 0s - loss: 0.5508 - acc: 0.847 - ETA: 0s - loss: 0.5503 - acc: 0.847 - ETA: 0s - loss: 0.5495 - acc: 0.847 - ETA: 0s - loss: 0.5483 - acc: 0.847 - ETA: 0s - loss: 0.5473 - acc: 0.847 - ETA: 0s - loss: 0.5462 - acc: 0.848 - ETA: 0s - loss: 0.5446 - acc: 0.848 - ETA: 0s - loss: 0.5441 - acc: 0.848 - ETA: 0s - loss: 0.5437 - acc: 0.847 - ETA: 0s - loss: 0.5427 - acc: 0.848 - ETA: 0s - loss: 0.5412 - acc: 0.848 - ETA: 0s - loss: 0.5405 - acc: 0.848 - ETA: 0s - loss: 0.5399 - acc: 0.848 - 3s 38us/step - loss: 0.5393 - acc: 0.8485\n",
      "Epoch 5/10\n",
      "70000/70000 [==============================] - ETA: 4s - loss: 0.5103 - acc: 0.860 - ETA: 2s - loss: 0.4768 - acc: 0.853 - ETA: 2s - loss: 0.4750 - acc: 0.857 - ETA: 2s - loss: 0.4826 - acc: 0.856 - ETA: 2s - loss: 0.4969 - acc: 0.853 - ETA: 2s - loss: 0.4976 - acc: 0.852 - ETA: 2s - loss: 0.4976 - acc: 0.853 - ETA: 2s - loss: 0.5025 - acc: 0.851 - ETA: 2s - loss: 0.5004 - acc: 0.853 - ETA: 2s - loss: 0.5010 - acc: 0.851 - ETA: 2s - loss: 0.4983 - acc: 0.852 - ETA: 2s - loss: 0.4965 - acc: 0.854 - ETA: 2s - loss: 0.4963 - acc: 0.853 - ETA: 2s - loss: 0.4942 - acc: 0.854 - ETA: 1s - loss: 0.4946 - acc: 0.853 - ETA: 1s - loss: 0.4935 - acc: 0.853 - ETA: 1s - loss: 0.4934 - acc: 0.853 - ETA: 1s - loss: 0.4920 - acc: 0.854 - ETA: 1s - loss: 0.4910 - acc: 0.853 - ETA: 1s - loss: 0.4898 - acc: 0.854 - ETA: 1s - loss: 0.4887 - acc: 0.854 - ETA: 1s - loss: 0.4887 - acc: 0.854 - ETA: 1s - loss: 0.4882 - acc: 0.855 - ETA: 1s - loss: 0.4887 - acc: 0.854 - ETA: 1s - loss: 0.4884 - acc: 0.854 - ETA: 1s - loss: 0.4874 - acc: 0.854 - ETA: 1s - loss: 0.4872 - acc: 0.854 - ETA: 1s - loss: 0.4869 - acc: 0.854 - ETA: 1s - loss: 0.4874 - acc: 0.853 - ETA: 1s - loss: 0.4871 - acc: 0.853 - ETA: 1s - loss: 0.4855 - acc: 0.853 - ETA: 1s - loss: 0.4852 - acc: 0.853 - ETA: 1s - loss: 0.4865 - acc: 0.853 - ETA: 1s - loss: 0.4858 - acc: 0.853 - ETA: 0s - loss: 0.4856 - acc: 0.853 - ETA: 0s - loss: 0.4849 - acc: 0.853 - ETA: 0s - loss: 0.4831 - acc: 0.853 - ETA: 0s - loss: 0.4836 - acc: 0.853 - ETA: 0s - loss: 0.4827 - acc: 0.853 - ETA: 0s - loss: 0.4835 - acc: 0.853 - ETA: 0s - loss: 0.4837 - acc: 0.853 - ETA: 0s - loss: 0.4839 - acc: 0.852 - ETA: 0s - loss: 0.4832 - acc: 0.853 - ETA: 0s - loss: 0.4833 - acc: 0.853 - ETA: 0s - loss: 0.4826 - acc: 0.853 - ETA: 0s - loss: 0.4826 - acc: 0.853 - ETA: 0s - loss: 0.4821 - acc: 0.852 - ETA: 0s - loss: 0.4817 - acc: 0.852 - ETA: 0s - loss: 0.4808 - acc: 0.853 - ETA: 0s - loss: 0.4803 - acc: 0.853 - ETA: 0s - loss: 0.4791 - acc: 0.853 - ETA: 0s - loss: 0.4789 - acc: 0.852 - 3s 41us/step - loss: 0.4789 - acc: 0.8530\n",
      "Epoch 6/10\n",
      "70000/70000 [==============================] - ETA: 4s - loss: 0.4280 - acc: 0.860 - ETA: 2s - loss: 0.4629 - acc: 0.851 - ETA: 2s - loss: 0.4544 - acc: 0.856 - ETA: 2s - loss: 0.4615 - acc: 0.853 - ETA: 2s - loss: 0.4550 - acc: 0.858 - ETA: 2s - loss: 0.4534 - acc: 0.859 - ETA: 2s - loss: 0.4580 - acc: 0.858 - ETA: 2s - loss: 0.4513 - acc: 0.858 - ETA: 2s - loss: 0.4475 - acc: 0.859 - ETA: 2s - loss: 0.4481 - acc: 0.859 - ETA: 2s - loss: 0.4487 - acc: 0.858 - ETA: 2s - loss: 0.4486 - acc: 0.858 - ETA: 2s - loss: 0.4480 - acc: 0.857 - ETA: 2s - loss: 0.4485 - acc: 0.856 - ETA: 2s - loss: 0.4535 - acc: 0.856 - ETA: 1s - loss: 0.4530 - acc: 0.856 - ETA: 1s - loss: 0.4512 - acc: 0.856 - ETA: 1s - loss: 0.4504 - acc: 0.857 - ETA: 1s - loss: 0.4515 - acc: 0.857 - ETA: 1s - loss: 0.4532 - acc: 0.856 - ETA: 1s - loss: 0.4511 - acc: 0.857 - ETA: 1s - loss: 0.4509 - acc: 0.857 - ETA: 1s - loss: 0.4512 - acc: 0.857 - ETA: 1s - loss: 0.4499 - acc: 0.857 - ETA: 1s - loss: 0.4507 - acc: 0.857 - ETA: 1s - loss: 0.4499 - acc: 0.858 - ETA: 1s - loss: 0.4495 - acc: 0.858 - ETA: 1s - loss: 0.4510 - acc: 0.857 - ETA: 1s - loss: 0.4506 - acc: 0.857 - ETA: 1s - loss: 0.4518 - acc: 0.856 - ETA: 1s - loss: 0.4516 - acc: 0.856 - ETA: 1s - loss: 0.4501 - acc: 0.857 - ETA: 1s - loss: 0.4499 - acc: 0.856 - ETA: 0s - loss: 0.4498 - acc: 0.856 - ETA: 0s - loss: 0.4499 - acc: 0.856 - ETA: 0s - loss: 0.4499 - acc: 0.856 - ETA: 0s - loss: 0.4501 - acc: 0.856 - ETA: 0s - loss: 0.4500 - acc: 0.856 - ETA: 0s - loss: 0.4506 - acc: 0.856 - ETA: 0s - loss: 0.4502 - acc: 0.856 - ETA: 0s - loss: 0.4508 - acc: 0.856 - ETA: 0s - loss: 0.4515 - acc: 0.855 - ETA: 0s - loss: 0.4514 - acc: 0.856 - ETA: 0s - loss: 0.4525 - acc: 0.855 - ETA: 0s - loss: 0.4527 - acc: 0.855 - ETA: 0s - loss: 0.4521 - acc: 0.855 - ETA: 0s - loss: 0.4520 - acc: 0.855 - ETA: 0s - loss: 0.4522 - acc: 0.855 - ETA: 0s - loss: 0.4523 - acc: 0.855 - ETA: 0s - loss: 0.4526 - acc: 0.855 - ETA: 0s - loss: 0.4520 - acc: 0.855 - 3s 41us/step - loss: 0.4519 - acc: 0.8552\n",
      "Epoch 7/10\n",
      "70000/70000 [==============================] - ETA: 4s - loss: 0.4189 - acc: 0.890 - ETA: 2s - loss: 0.4292 - acc: 0.856 - ETA: 2s - loss: 0.4471 - acc: 0.851 - ETA: 2s - loss: 0.4455 - acc: 0.850 - ETA: 2s - loss: 0.4459 - acc: 0.853 - ETA: 2s - loss: 0.4386 - acc: 0.855 - ETA: 2s - loss: 0.4389 - acc: 0.854 - ETA: 2s - loss: 0.4439 - acc: 0.854 - ETA: 2s - loss: 0.4439 - acc: 0.854 - ETA: 2s - loss: 0.4442 - acc: 0.854 - ETA: 2s - loss: 0.4453 - acc: 0.853 - ETA: 2s - loss: 0.4456 - acc: 0.853 - ETA: 2s - loss: 0.4432 - acc: 0.854 - ETA: 2s - loss: 0.4439 - acc: 0.853 - ETA: 2s - loss: 0.4438 - acc: 0.853 - ETA: 2s - loss: 0.4436 - acc: 0.854 - ETA: 1s - loss: 0.4434 - acc: 0.854 - ETA: 1s - loss: 0.4439 - acc: 0.854 - ETA: 1s - loss: 0.4433 - acc: 0.853 - ETA: 1s - loss: 0.4434 - acc: 0.854 - ETA: 1s - loss: 0.4453 - acc: 0.854 - ETA: 1s - loss: 0.4435 - acc: 0.854 - ETA: 1s - loss: 0.4432 - acc: 0.855 - ETA: 1s - loss: 0.4442 - acc: 0.855 - ETA: 1s - loss: 0.4426 - acc: 0.855 - ETA: 1s - loss: 0.4420 - acc: 0.855 - ETA: 1s - loss: 0.4407 - acc: 0.855 - ETA: 1s - loss: 0.4397 - acc: 0.856 - ETA: 1s - loss: 0.4397 - acc: 0.856 - ETA: 1s - loss: 0.4398 - acc: 0.856 - ETA: 1s - loss: 0.4380 - acc: 0.857 - ETA: 1s - loss: 0.4382 - acc: 0.857 - ETA: 1s - loss: 0.4372 - acc: 0.857 - ETA: 1s - loss: 0.4374 - acc: 0.857 - ETA: 0s - loss: 0.4365 - acc: 0.857 - ETA: 0s - loss: 0.4360 - acc: 0.857 - ETA: 0s - loss: 0.4357 - acc: 0.857 - ETA: 0s - loss: 0.4361 - acc: 0.857 - ETA: 0s - loss: 0.4356 - acc: 0.857 - ETA: 0s - loss: 0.4350 - acc: 0.857 - ETA: 0s - loss: 0.4349 - acc: 0.856 - ETA: 0s - loss: 0.4350 - acc: 0.856 - ETA: 0s - loss: 0.4356 - acc: 0.856 - ETA: 0s - loss: 0.4365 - acc: 0.856 - ETA: 0s - loss: 0.4373 - acc: 0.856 - ETA: 0s - loss: 0.4371 - acc: 0.856 - ETA: 0s - loss: 0.4376 - acc: 0.856 - ETA: 0s - loss: 0.4384 - acc: 0.856 - ETA: 0s - loss: 0.4396 - acc: 0.856 - ETA: 0s - loss: 0.4386 - acc: 0.856 - ETA: 0s - loss: 0.4385 - acc: 0.856 - ETA: 0s - loss: 0.4383 - acc: 0.856 - 3s 40us/step - loss: 0.4385 - acc: 0.8562\n",
      "Epoch 8/10\n"
     ]
    },
    {
     "name": "stdout",
     "output_type": "stream",
     "text": [
      "70000/70000 [==============================] - ETA: 4s - loss: 0.4504 - acc: 0.810 - ETA: 2s - loss: 0.4292 - acc: 0.850 - ETA: 2s - loss: 0.4245 - acc: 0.856 - ETA: 2s - loss: 0.4312 - acc: 0.857 - ETA: 2s - loss: 0.4270 - acc: 0.857 - ETA: 2s - loss: 0.4289 - acc: 0.858 - ETA: 2s - loss: 0.4251 - acc: 0.861 - ETA: 2s - loss: 0.4289 - acc: 0.859 - ETA: 2s - loss: 0.4316 - acc: 0.858 - ETA: 2s - loss: 0.4333 - acc: 0.856 - ETA: 2s - loss: 0.4344 - acc: 0.855 - ETA: 2s - loss: 0.4367 - acc: 0.854 - ETA: 2s - loss: 0.4357 - acc: 0.854 - ETA: 2s - loss: 0.4347 - acc: 0.854 - ETA: 2s - loss: 0.4334 - acc: 0.854 - ETA: 2s - loss: 0.4339 - acc: 0.854 - ETA: 2s - loss: 0.4325 - acc: 0.854 - ETA: 1s - loss: 0.4307 - acc: 0.855 - ETA: 1s - loss: 0.4304 - acc: 0.856 - ETA: 1s - loss: 0.4300 - acc: 0.856 - ETA: 1s - loss: 0.4296 - acc: 0.856 - ETA: 1s - loss: 0.4301 - acc: 0.856 - ETA: 1s - loss: 0.4306 - acc: 0.856 - ETA: 1s - loss: 0.4308 - acc: 0.856 - ETA: 1s - loss: 0.4322 - acc: 0.855 - ETA: 1s - loss: 0.4335 - acc: 0.855 - ETA: 1s - loss: 0.4344 - acc: 0.855 - ETA: 1s - loss: 0.4335 - acc: 0.855 - ETA: 1s - loss: 0.4350 - acc: 0.855 - ETA: 1s - loss: 0.4351 - acc: 0.855 - ETA: 1s - loss: 0.4347 - acc: 0.855 - ETA: 1s - loss: 0.4346 - acc: 0.854 - ETA: 1s - loss: 0.4355 - acc: 0.854 - ETA: 1s - loss: 0.4361 - acc: 0.854 - ETA: 0s - loss: 0.4370 - acc: 0.854 - ETA: 0s - loss: 0.4359 - acc: 0.854 - ETA: 0s - loss: 0.4360 - acc: 0.854 - ETA: 0s - loss: 0.4363 - acc: 0.854 - ETA: 0s - loss: 0.4356 - acc: 0.855 - ETA: 0s - loss: 0.4346 - acc: 0.855 - ETA: 0s - loss: 0.4345 - acc: 0.855 - ETA: 0s - loss: 0.4339 - acc: 0.855 - ETA: 0s - loss: 0.4319 - acc: 0.856 - ETA: 0s - loss: 0.4318 - acc: 0.856 - ETA: 0s - loss: 0.4310 - acc: 0.856 - ETA: 0s - loss: 0.4306 - acc: 0.857 - ETA: 0s - loss: 0.4311 - acc: 0.856 - ETA: 0s - loss: 0.4312 - acc: 0.856 - ETA: 0s - loss: 0.4315 - acc: 0.856 - ETA: 0s - loss: 0.4314 - acc: 0.856 - ETA: 0s - loss: 0.4301 - acc: 0.857 - ETA: 0s - loss: 0.4306 - acc: 0.857 - ETA: 0s - loss: 0.4310 - acc: 0.856 - 3s 41us/step - loss: 0.4308 - acc: 0.8569\n",
      "Epoch 9/10\n",
      "70000/70000 [==============================] - ETA: 4s - loss: 0.3980 - acc: 0.830 - ETA: 2s - loss: 0.4445 - acc: 0.839 - ETA: 2s - loss: 0.4408 - acc: 0.847 - ETA: 2s - loss: 0.4467 - acc: 0.847 - ETA: 2s - loss: 0.4435 - acc: 0.849 - ETA: 2s - loss: 0.4363 - acc: 0.850 - ETA: 2s - loss: 0.4362 - acc: 0.851 - ETA: 2s - loss: 0.4376 - acc: 0.851 - ETA: 2s - loss: 0.4341 - acc: 0.853 - ETA: 2s - loss: 0.4377 - acc: 0.852 - ETA: 2s - loss: 0.4350 - acc: 0.853 - ETA: 2s - loss: 0.4347 - acc: 0.853 - ETA: 2s - loss: 0.4313 - acc: 0.854 - ETA: 2s - loss: 0.4355 - acc: 0.853 - ETA: 2s - loss: 0.4366 - acc: 0.852 - ETA: 1s - loss: 0.4352 - acc: 0.852 - ETA: 1s - loss: 0.4344 - acc: 0.853 - ETA: 1s - loss: 0.4337 - acc: 0.853 - ETA: 1s - loss: 0.4335 - acc: 0.853 - ETA: 1s - loss: 0.4298 - acc: 0.854 - ETA: 1s - loss: 0.4288 - acc: 0.855 - ETA: 1s - loss: 0.4260 - acc: 0.856 - ETA: 1s - loss: 0.4258 - acc: 0.856 - ETA: 1s - loss: 0.4257 - acc: 0.856 - ETA: 1s - loss: 0.4256 - acc: 0.856 - ETA: 1s - loss: 0.4247 - acc: 0.856 - ETA: 1s - loss: 0.4233 - acc: 0.857 - ETA: 1s - loss: 0.4239 - acc: 0.857 - ETA: 1s - loss: 0.4242 - acc: 0.857 - ETA: 1s - loss: 0.4243 - acc: 0.857 - ETA: 1s - loss: 0.4229 - acc: 0.857 - ETA: 1s - loss: 0.4232 - acc: 0.858 - ETA: 0s - loss: 0.4232 - acc: 0.857 - ETA: 0s - loss: 0.4227 - acc: 0.857 - ETA: 0s - loss: 0.4236 - acc: 0.857 - ETA: 0s - loss: 0.4253 - acc: 0.856 - ETA: 0s - loss: 0.4247 - acc: 0.856 - ETA: 0s - loss: 0.4247 - acc: 0.857 - ETA: 0s - loss: 0.4244 - acc: 0.857 - ETA: 0s - loss: 0.4249 - acc: 0.857 - ETA: 0s - loss: 0.4260 - acc: 0.856 - ETA: 0s - loss: 0.4256 - acc: 0.856 - ETA: 0s - loss: 0.4254 - acc: 0.856 - ETA: 0s - loss: 0.4259 - acc: 0.856 - ETA: 0s - loss: 0.4263 - acc: 0.856 - ETA: 0s - loss: 0.4262 - acc: 0.856 - ETA: 0s - loss: 0.4265 - acc: 0.856 - ETA: 0s - loss: 0.4262 - acc: 0.856 - ETA: 0s - loss: 0.4257 - acc: 0.857 - ETA: 0s - loss: 0.4255 - acc: 0.857 - 3s 40us/step - loss: 0.4255 - acc: 0.8574\n",
      "Epoch 10/10\n",
      "70000/70000 [==============================] - ETA: 4s - loss: 0.4857 - acc: 0.820 - ETA: 2s - loss: 0.3999 - acc: 0.865 - ETA: 2s - loss: 0.4075 - acc: 0.867 - ETA: 2s - loss: 0.4081 - acc: 0.864 - ETA: 2s - loss: 0.4063 - acc: 0.864 - ETA: 2s - loss: 0.4028 - acc: 0.863 - ETA: 2s - loss: 0.4057 - acc: 0.863 - ETA: 2s - loss: 0.4112 - acc: 0.861 - ETA: 2s - loss: 0.4150 - acc: 0.861 - ETA: 2s - loss: 0.4136 - acc: 0.861 - ETA: 2s - loss: 0.4177 - acc: 0.861 - ETA: 2s - loss: 0.4215 - acc: 0.860 - ETA: 2s - loss: 0.4215 - acc: 0.859 - ETA: 2s - loss: 0.4211 - acc: 0.859 - ETA: 2s - loss: 0.4199 - acc: 0.860 - ETA: 1s - loss: 0.4208 - acc: 0.859 - ETA: 1s - loss: 0.4194 - acc: 0.859 - ETA: 1s - loss: 0.4216 - acc: 0.858 - ETA: 1s - loss: 0.4243 - acc: 0.858 - ETA: 1s - loss: 0.4232 - acc: 0.858 - ETA: 1s - loss: 0.4215 - acc: 0.859 - ETA: 1s - loss: 0.4205 - acc: 0.859 - ETA: 1s - loss: 0.4200 - acc: 0.859 - ETA: 1s - loss: 0.4199 - acc: 0.858 - ETA: 1s - loss: 0.4212 - acc: 0.858 - ETA: 1s - loss: 0.4214 - acc: 0.858 - ETA: 1s - loss: 0.4223 - acc: 0.858 - ETA: 1s - loss: 0.4208 - acc: 0.858 - ETA: 1s - loss: 0.4212 - acc: 0.858 - ETA: 1s - loss: 0.4226 - acc: 0.857 - ETA: 1s - loss: 0.4222 - acc: 0.857 - ETA: 1s - loss: 0.4209 - acc: 0.858 - ETA: 1s - loss: 0.4216 - acc: 0.858 - ETA: 0s - loss: 0.4210 - acc: 0.858 - ETA: 0s - loss: 0.4218 - acc: 0.857 - ETA: 0s - loss: 0.4222 - acc: 0.857 - ETA: 0s - loss: 0.4219 - acc: 0.857 - ETA: 0s - loss: 0.4212 - acc: 0.857 - ETA: 0s - loss: 0.4202 - acc: 0.857 - ETA: 0s - loss: 0.4204 - acc: 0.857 - ETA: 0s - loss: 0.4205 - acc: 0.856 - ETA: 0s - loss: 0.4212 - acc: 0.856 - ETA: 0s - loss: 0.4214 - acc: 0.856 - ETA: 0s - loss: 0.4215 - acc: 0.856 - ETA: 0s - loss: 0.4219 - acc: 0.856 - ETA: 0s - loss: 0.4209 - acc: 0.857 - ETA: 0s - loss: 0.4217 - acc: 0.856 - ETA: 0s - loss: 0.4212 - acc: 0.857 - ETA: 0s - loss: 0.4212 - acc: 0.857 - ETA: 0s - loss: 0.4217 - acc: 0.857 - ETA: 0s - loss: 0.4221 - acc: 0.857 - 3s 40us/step - loss: 0.4217 - acc: 0.8575\n"
     ]
    },
    {
     "data": {
      "text/plain": [
       "<keras.callbacks.History at 0x159bb00b128>"
      ]
     },
     "execution_count": 16,
     "metadata": {},
     "output_type": "execute_result"
    }
   ],
   "source": [
    "# Fit the model with the newly created data with 10 epochs\n",
    "model_pred_img.fit(matTrainUpdt, y_train_cat,\n",
    "                batch_size=batch_size,\n",
    "                epochs=10)"
   ]
  },
  {
   "cell_type": "markdown",
   "metadata": {},
   "source": [
    "##### Define the Recognise Function: \n",
    "Now we have a model trained with the Embedding data and will predict the class, but as the reciognise function will take the image as output we will first predict the embedding with the previously trained embedding model with triplet loss and pass the embedding to our newly trained model to predict the labels "
   ]
  },
  {
   "cell_type": "code",
   "execution_count": 17,
   "metadata": {},
   "outputs": [],
   "source": [
    "def recognise_digit(img):\n",
    "    img = img.reshape(1,28,28,1)\n",
    "    im1 = model_embd.predict(img)\n",
    "    #print(im1)\n",
    "    result = model_pred_img.predict(im1)\n",
    "    if(result.argmax()==10):\n",
    "        return \"UnKnown\"\n",
    "    else:\n",
    "        return result.argmax()"
   ]
  },
  {
   "cell_type": "markdown",
   "metadata": {},
   "source": [
    "#### Part I - Section 5 :\n",
    "#### Test the Network with both Known and Unknown Images "
   ]
  },
  {
   "cell_type": "code",
   "execution_count": 18,
   "metadata": {},
   "outputs": [
    {
     "name": "stdout",
     "output_type": "stream",
     "text": [
      "Recognised Digit: 4\n"
     ]
    },
    {
     "data": {
      "image/png": "[encoded data removed]",
      "text/plain": [
       "<Figure size 432x288 with 1 Axes>"
      ]
     },
     "metadata": {},
     "output_type": "display_data"
    }
   ],
   "source": [
    "# Test with one digit data from MNIST \n",
    "img = X_test[1010].reshape(1,28,28,1)\n",
    "plt.imshow(X_test[1010].reshape(28,28), cmap='Greys')\n",
    "print(\"Recognised Digit: \"+ str(recognise_digit(img)))"
   ]
  },
  {
   "cell_type": "code",
   "execution_count": 19,
   "metadata": {},
   "outputs": [
    {
     "name": "stdout",
     "output_type": "stream",
     "text": [
      "Recognised Digit: UnKnown\n"
     ]
    },
    {
     "data": {
      "image/png": "[encoded data removed]",
      "text/plain": [
       "<Figure size 432x288 with 1 Axes>"
      ]
     },
     "metadata": {},
     "output_type": "display_data"
    }
   ],
   "source": [
    "# Test with one character data from EMNIST Dataset\n",
    "img = alpha_img[1000] #.reshape(1,28,28,1)\n",
    "plt.imshow(alpha_img[1000].reshape(28,28), cmap='Greys')\n",
    "print(\"Recognised Digit: \"+ str(recognise_digit(img)))"
   ]
  },
  {
   "cell_type": "markdown",
   "metadata": {},
   "source": [
    "#### Calculate Accuracy Of the Model:"
   ]
  },
  {
   "cell_type": "code",
   "execution_count": 20,
   "metadata": {},
   "outputs": [
    {
     "name": "stdout",
     "output_type": "stream",
     "text": [
      "Accuracy : 0.8433\n"
     ]
    }
   ],
   "source": [
    "from sklearn.metrics import accuracy_score\n",
    "\n",
    "# Get the Predictaed label for y_test\n",
    "y_predict = [recognise_digit(X_test[i]) for i  in range(len(X_test))]\n",
    "\n",
    "# Calculate Accuracy\n",
    "print(\"Accuracy : \" + str(accuracy_score(y_test,y_predict)))"
   ]
  },
  {
   "cell_type": "markdown",
   "metadata": {},
   "source": [
    "#### Part II\n",
    "\n",
    "In this part we will take a pretrained Image Recognition Model available online and will use it to Cluster Images on same Bin"
   ]
  },
  {
   "cell_type": "markdown",
   "metadata": {},
   "source": [
    "#### Part II - Section 6 :\n",
    "#### Pre-Trained Deep Convolution Network Face Model  "
   ]
  },
  {
   "cell_type": "markdown",
   "metadata": {},
   "source": [
    "Here we have used the VGG Face Model with 22 layers and 37 deep units, the model is developed by the Researchers from the Oxford. \n",
    "I have doenloaded the weight and loaded them to a model I have created with the same model construced locally.\n",
    "\n",
    "The weight can be found [here](https://drive.google.com/file/d/1CPSeum3HpopfomUEK1gybeuIVoeJT_Eo/view?usp=sharing)\n",
    "\n",
    "The Original paper can be found [here](http://www.robots.ox.ac.uk/~vgg/publications/2015/Parkhi15/parkhi15.pdf)\n",
    "\n",
    "The Layer Structure and Image preconstruction I have followed from this [blog](https://sefiks.com/2018/08/06/deep-face-recognition-with-keras/)"
   ]
  },
  {
   "cell_type": "code",
   "execution_count": 21,
   "metadata": {},
   "outputs": [],
   "source": [
    "from keras.models import Model, Sequential\n",
    "from keras.optimizers import Adam\n",
    "from keras.layers import Dense, Dropout, Flatten, Convolution2D, MaxPooling2D, ZeroPadding2D, Activation\n",
    "from keras.layers import Input, Lambda\n",
    "from keras.utils import np_utils\n",
    "from keras.datasets import mnist\n",
    "from keras import backend as K\n",
    "import numpy as np\n",
    "import matplotlib.pyplot as plt\n",
    "import keras\n",
    "from keras.preprocessing import image\n",
    "from keras.applications.vgg16 import VGG16\n",
    "from keras.applications.vgg16 import preprocess_input\n",
    "from keras.preprocessing.image import load_img, save_img, img_to_array"
   ]
  },
  {
   "cell_type": "markdown",
   "metadata": {},
   "source": [
    "Contruct the model so that it can match with the VGG Facenet Model "
   ]
  },
  {
   "cell_type": "code",
   "execution_count": 22,
   "metadata": {},
   "outputs": [],
   "source": [
    "model = Sequential()\n",
    "model.add(ZeroPadding2D((1,1),input_shape=(224,224, 3)))\n",
    "model.add(Convolution2D(64, (3, 3), activation='relu'))\n",
    "model.add(ZeroPadding2D((1,1)))\n",
    "model.add(Convolution2D(64, (3, 3), activation='relu'))\n",
    "model.add(MaxPooling2D((2,2), strides=(2,2)))\n",
    " \n",
    "model.add(ZeroPadding2D((1,1)))\n",
    "model.add(Convolution2D(128, (3, 3), activation='relu'))\n",
    "model.add(ZeroPadding2D((1,1)))\n",
    "model.add(Convolution2D(128, (3, 3), activation='relu'))\n",
    "model.add(MaxPooling2D((2,2), strides=(2,2)))\n",
    " \n",
    "model.add(ZeroPadding2D((1,1)))\n",
    "model.add(Convolution2D(256, (3, 3), activation='relu'))\n",
    "model.add(ZeroPadding2D((1,1)))\n",
    "model.add(Convolution2D(256, (3, 3), activation='relu'))\n",
    "model.add(ZeroPadding2D((1,1)))\n",
    "model.add(Convolution2D(256, (3, 3), activation='relu'))\n",
    "model.add(MaxPooling2D((2,2), strides=(2,2)))\n",
    " \n",
    "model.add(ZeroPadding2D((1,1)))\n",
    "model.add(Convolution2D(512, (3, 3), activation='relu'))\n",
    "model.add(ZeroPadding2D((1,1)))\n",
    "model.add(Convolution2D(512, (3, 3), activation='relu'))\n",
    "model.add(ZeroPadding2D((1,1)))\n",
    "model.add(Convolution2D(512, (3, 3), activation='relu'))\n",
    "model.add(MaxPooling2D((2,2), strides=(2,2)))\n",
    " \n",
    "model.add(ZeroPadding2D((1,1)))\n",
    "model.add(Convolution2D(512, (3, 3), activation='relu'))\n",
    "model.add(ZeroPadding2D((1,1)))\n",
    "model.add(Convolution2D(512, (3, 3), activation='relu'))\n",
    "model.add(ZeroPadding2D((1,1)))\n",
    "model.add(Convolution2D(512, (3, 3), activation='relu'))\n",
    "model.add(MaxPooling2D((2,2), strides=(2,2)))\n",
    " \n",
    "model.add(Convolution2D(4096, (7, 7), activation='relu'))\n",
    "model.add(Dropout(0.5))\n",
    "model.add(Convolution2D(4096, (1, 1), activation='relu'))\n",
    "model.add(Dropout(0.5))\n",
    "model.add(Convolution2D(2622, (1, 1)))\n",
    "model.add(Flatten())\n",
    "model.add(Activation('softmax'))"
   ]
  },
  {
   "cell_type": "code",
   "execution_count": 23,
   "metadata": {},
   "outputs": [
    {
     "name": "stdout",
     "output_type": "stream",
     "text": [
      "_________________________________________________________________\n",
      "Layer (type)                 Output Shape              Param #   \n",
      "=================================================================\n",
      "zero_padding2d_1 (ZeroPaddin (None, 226, 226, 3)       0         \n",
      "_________________________________________________________________\n",
      "conv2d_3 (Conv2D)            (None, 224, 224, 64)      1792      \n",
      "_________________________________________________________________\n",
      "zero_padding2d_2 (ZeroPaddin (None, 226, 226, 64)      0         \n",
      "_________________________________________________________________\n",
      "conv2d_4 (Conv2D)            (None, 224, 224, 64)      36928     \n",
      "_________________________________________________________________\n",
      "max_pooling2d_2 (MaxPooling2 (None, 112, 112, 64)      0         \n",
      "_________________________________________________________________\n",
      "zero_padding2d_3 (ZeroPaddin (None, 114, 114, 64)      0         \n",
      "_________________________________________________________________\n",
      "conv2d_5 (Conv2D)            (None, 112, 112, 128)     73856     \n",
      "_________________________________________________________________\n",
      "zero_padding2d_4 (ZeroPaddin (None, 114, 114, 128)     0         \n",
      "_________________________________________________________________\n",
      "conv2d_6 (Conv2D)            (None, 112, 112, 128)     147584    \n",
      "_________________________________________________________________\n",
      "max_pooling2d_3 (MaxPooling2 (None, 56, 56, 128)       0         \n",
      "_________________________________________________________________\n",
      "zero_padding2d_5 (ZeroPaddin (None, 58, 58, 128)       0         \n",
      "_________________________________________________________________\n",
      "conv2d_7 (Conv2D)            (None, 56, 56, 256)       295168    \n",
      "_________________________________________________________________\n",
      "zero_padding2d_6 (ZeroPaddin (None, 58, 58, 256)       0         \n",
      "_________________________________________________________________\n",
      "conv2d_8 (Conv2D)            (None, 56, 56, 256)       590080    \n",
      "_________________________________________________________________\n",
      "zero_padding2d_7 (ZeroPaddin (None, 58, 58, 256)       0         \n",
      "_________________________________________________________________\n",
      "conv2d_9 (Conv2D)            (None, 56, 56, 256)       590080    \n",
      "_________________________________________________________________\n",
      "max_pooling2d_4 (MaxPooling2 (None, 28, 28, 256)       0         \n",
      "_________________________________________________________________\n",
      "zero_padding2d_8 (ZeroPaddin (None, 30, 30, 256)       0         \n",
      "_________________________________________________________________\n",
      "conv2d_10 (Conv2D)           (None, 28, 28, 512)       1180160   \n",
      "_________________________________________________________________\n",
      "zero_padding2d_9 (ZeroPaddin (None, 30, 30, 512)       0         \n",
      "_________________________________________________________________\n",
      "conv2d_11 (Conv2D)           (None, 28, 28, 512)       2359808   \n",
      "_________________________________________________________________\n",
      "zero_padding2d_10 (ZeroPaddi (None, 30, 30, 512)       0         \n",
      "_________________________________________________________________\n",
      "conv2d_12 (Conv2D)           (None, 28, 28, 512)       2359808   \n",
      "_________________________________________________________________\n",
      "max_pooling2d_5 (MaxPooling2 (None, 14, 14, 512)       0         \n",
      "_________________________________________________________________\n",
      "zero_padding2d_11 (ZeroPaddi (None, 16, 16, 512)       0         \n",
      "_________________________________________________________________\n",
      "conv2d_13 (Conv2D)           (None, 14, 14, 512)       2359808   \n",
      "_________________________________________________________________\n",
      "zero_padding2d_12 (ZeroPaddi (None, 16, 16, 512)       0         \n",
      "_________________________________________________________________\n",
      "conv2d_14 (Conv2D)           (None, 14, 14, 512)       2359808   \n",
      "_________________________________________________________________\n",
      "zero_padding2d_13 (ZeroPaddi (None, 16, 16, 512)       0         \n",
      "_________________________________________________________________\n",
      "conv2d_15 (Conv2D)           (None, 14, 14, 512)       2359808   \n",
      "_________________________________________________________________\n",
      "max_pooling2d_6 (MaxPooling2 (None, 7, 7, 512)         0         \n",
      "_________________________________________________________________\n",
      "conv2d_16 (Conv2D)           (None, 1, 1, 4096)        102764544 \n",
      "_________________________________________________________________\n",
      "dropout_3 (Dropout)          (None, 1, 1, 4096)        0         \n",
      "_________________________________________________________________\n",
      "conv2d_17 (Conv2D)           (None, 1, 1, 4096)        16781312  \n",
      "_________________________________________________________________\n",
      "dropout_4 (Dropout)          (None, 1, 1, 4096)        0         \n",
      "_________________________________________________________________\n",
      "conv2d_18 (Conv2D)           (None, 1, 1, 2622)        10742334  \n",
      "_________________________________________________________________\n",
      "flatten_2 (Flatten)          (None, 2622)              0         \n",
      "_________________________________________________________________\n",
      "activation_1 (Activation)    (None, 2622)              0         \n",
      "=================================================================\n",
      "Total params: 145,002,878\n",
      "Trainable params: 145,002,878\n",
      "Non-trainable params: 0\n",
      "_________________________________________________________________\n"
     ]
    }
   ],
   "source": [
    "model.summary()"
   ]
  },
  {
   "cell_type": "code",
   "execution_count": 24,
   "metadata": {},
   "outputs": [],
   "source": [
    "# Load the Pre trained weight \n",
    "from keras.models import model_from_json\n",
    "model.load_weights('vgg_face_weights.h5')"
   ]
  },
  {
   "cell_type": "markdown",
   "metadata": {},
   "source": [
    "We will use upto the previous layer of the actication layer to get the embedding of 2622"
   ]
  },
  {
   "cell_type": "code",
   "execution_count": 25,
   "metadata": {},
   "outputs": [],
   "source": [
    "vgg_face_descriptor = Model(inputs=model.layers[0].input\n",
    "                            , outputs=model.layers[-2].output)  # Remove the last activation layer"
   ]
  },
  {
   "cell_type": "markdown",
   "metadata": {},
   "source": [
    "#### Part II - Section 7 :\n",
    "#### Use the Model To create clustering  "
   ]
  },
  {
   "cell_type": "markdown",
   "metadata": {},
   "source": [
    "#### Data Preparation\n",
    "\n",
    "I have manually Contructed 16 different images of four players each with size 224 * 224 and placed in the Dataset Folder and get the embedding for the 16 Images"
   ]
  },
  {
   "cell_type": "code",
   "execution_count": 26,
   "metadata": {},
   "outputs": [],
   "source": [
    "# Take the image file and preporocess to get the inputb for the VGG16 Model\n",
    "def preprocess_image(image_path):\n",
    "    img = load_img(image_path, target_size=(224, 224)) # Load the image\n",
    "    img = img_to_array(img) # Convert into array\n",
    "    img = np.expand_dims(img, axis=0) # Reshape to (1 * 224 * 224 * 3)\n",
    "    img = preprocess_input(img) # Pre process the image to get the data for VGG 16 Model\n",
    "    return img"
   ]
  },
  {
   "cell_type": "markdown",
   "metadata": {},
   "source": [
    "Now I will create a list of the embedding, original image and the labels for the input of K-Means"
   ]
  },
  {
   "cell_type": "code",
   "execution_count": 27,
   "metadata": {},
   "outputs": [
    {
     "name": "stdout",
     "output_type": "stream",
     "text": [
      "Messi1.png\n",
      "Messi2.png\n",
      "Messi3.png\n",
      "Messi4.png\n",
      "Ronaldo1.png\n",
      "Ronaldo2.png\n",
      "Ronaldo3.png\n",
      "Ronaldo4.png\n",
      "Salha1.png\n",
      "Salha2.png\n",
      "Salha3.png\n",
      "Salha4.png\n",
      "Suaraze1.png\n",
      "Suaraze2.png\n",
      "Suaraze3.png\n",
      "Suaraze4.png\n"
     ]
    }
   ],
   "source": [
    "import os\n",
    "\n",
    "# Get Directory\n",
    "directory = os.fsencode(\"Dataset/\")\n",
    "img_embd = [] # Store the image embedding  \n",
    "orig_img = [] # Store the Original Image\n",
    "label =list() # Store the Labels\n",
    "for file in os.listdir(directory):\n",
    "    # Read the File\n",
    "    filename = os.fsdecode(file)\n",
    "    # Get the Embedding\n",
    "    img_representation = vgg_face_descriptor.predict(preprocess_image('Dataset/'+filename))[0,:]\n",
    "    # Append the Original Image\n",
    "    orig_img.append(load_img('Dataset/'+filename, target_size=(224, 224)))\n",
    "    # Append the Embedding\n",
    "    img_embd.append(img_representation)\n",
    "    # Create the labels\n",
    "    if(\"Messi\" in filename):\n",
    "        label.append(0)\n",
    "    elif(\"Ronaldo\" in filename):\n",
    "        label.append(1)\n",
    "    elif(\"Salha\" in filename):\n",
    "        label.append(2)\n",
    "    elif(\"Suaraze\" in filename):\n",
    "        label.append(3)\n",
    "    print(filename)"
   ]
  },
  {
   "cell_type": "markdown",
   "metadata": {},
   "source": [
    "As we have a 2622 dimensional emedding layer to plot the embedding in 2 Dimensional Space I am using the Dimensionality Reduction Technique PCA with two Principle Component so that I can Plot the Images in 2 D Space"
   ]
  },
  {
   "cell_type": "code",
   "execution_count": 28,
   "metadata": {},
   "outputs": [
    {
     "data": {
      "image/png": "[encoded data removed]",
      "text/plain": [
       "<Figure size 432x288 with 1 Axes>"
      ]
     },
     "metadata": {},
     "output_type": "display_data"
    }
   ],
   "source": [
    "from sklearn.decomposition import PCA\n",
    "\n",
    "# Fit the data in the 2D PCA Model\n",
    "pca = PCA(n_components=2).fit(img_embd)\n",
    "pca_2d = pca.transform(img_embd)\n",
    "\n",
    "# Plot the PCA Data to see how it fits in the 2D Space\n",
    "import pylab as pl\n",
    "for i in range(0, pca_2d.shape[0]):\n",
    "    if label[i] == 0:\n",
    "        c1 = pl.scatter(pca_2d[i,0],pca_2d[i,1],c='r',marker='+')\n",
    "    elif label[i] == 1:\n",
    "        c2 = pl.scatter(pca_2d[i,0],pca_2d[i,1],c='g',marker='o')\n",
    "    elif label[i] == 2:\n",
    "        c3 = pl.scatter(pca_2d[i,0],pca_2d[i,1],c='b',marker='*')\n",
    "    elif label[i] == 3:\n",
    "        c4 = pl.scatter(pca_2d[i,0],pca_2d[i,1],c='c',marker='^')\n",
    "pl.legend([c1, c2, c3, c4], ['Messi', 'Ronaldo','Salha','Suaraze'])\n",
    "pl.title('Fig 3 : Face Clusters')\n",
    "plt.savefig(\"FaceClusters_Signs.png\")\n",
    "pl.show()"
   ]
  },
  {
   "cell_type": "markdown",
   "metadata": {},
   "source": [
    "As we can see above the data for different players has been segregated in the 2d space"
   ]
  },
  {
   "cell_type": "markdown",
   "metadata": {},
   "source": [
    "#### Cluster the data with K-Means Clustering method"
   ]
  },
  {
   "cell_type": "markdown",
   "metadata": {},
   "source": [
    "Lets find the optimal value of K with the Elbow method "
   ]
  },
  {
   "cell_type": "code",
   "execution_count": 29,
   "metadata": {},
   "outputs": [
    {
     "data": {
      "image/png": "[encoded data removed]",
      "text/plain": [
       "<Figure size 432x288 with 1 Axes>"
      ]
     },
     "metadata": {},
     "output_type": "display_data"
    }
   ],
   "source": [
    "from scipy.spatial.distance import cdist\n",
    "from sklearn.cluster import KMeans\n",
    "\n",
    "Sum_of_squared_distances = []\n",
    "K = range(1,15)\n",
    "for k in K:\n",
    "    km = KMeans(n_clusters=k)\n",
    "    km = km.fit(img_embd)\n",
    "    Sum_of_squared_distances.append(km.inertia_)\n",
    "    \n",
    "plt.plot(K, Sum_of_squared_distances, 'bx-')\n",
    "plt.xlabel('k')\n",
    "plt.ylabel('Sum_of_squared_distances')\n",
    "plt.title('Fig 4 : Elbow Method For Optimal k')\n",
    "plt.savefig(\"Elbow_output.png\")\n",
    "plt.show()"
   ]
  },
  {
   "cell_type": "markdown",
   "metadata": {},
   "source": [
    "We can see there is a possible elbow at K = 4 as expected fron the data, so we will pass k = 4 to the K-Means"
   ]
  },
  {
   "cell_type": "markdown",
   "metadata": {},
   "source": [
    "Here we will plot the PCA points clustered by the K Means and color the Points by the Cluster Labels found the K-Means Algorithm"
   ]
  },
  {
   "cell_type": "code",
   "execution_count": 30,
   "metadata": {},
   "outputs": [
    {
     "data": {
      "image/png": "[encoded data removed]",
      "text/plain": [
       "<Figure size 432x288 with 1 Axes>"
      ]
     },
     "metadata": {},
     "output_type": "display_data"
    }
   ],
   "source": [
    "# K-Means with k = 4\n",
    "kmeans = KMeans(n_clusters=4, random_state=111)\n",
    "kmeans.fit(img_embd)\n",
    "pl.figure('K-means with 4 clusters')\n",
    "pl.scatter(pca_2d[:, 0], pca_2d[:, 1], c=kmeans.labels_) # Color by the cluster labels\n",
    "pl.title(\"Fig 5 : Position of Different Clusters with Colors\")\n",
    "plt.savefig(\"K_MeansClusters.png\")\n",
    "pl.show()"
   ]
  },
  {
   "cell_type": "markdown",
   "metadata": {},
   "source": [
    "From Fig 2 and Fig 4 we can see the K-Means Clustered the Images correctly in the same clusters  for 4 different players"
   ]
  },
  {
   "cell_type": "markdown",
   "metadata": {},
   "source": [
    "#### Part II - Section 8 :\n",
    "#### Plot the images in the window to show the images of same players are clustered together  "
   ]
  },
  {
   "cell_type": "code",
   "execution_count": 31,
   "metadata": {},
   "outputs": [
    {
     "data": {
      "image/png": "[encoded data removed]",
      "text/plain": [
       "<Figure size 432x288 with 1 Axes>"
      ]
     },
     "metadata": {},
     "output_type": "display_data"
    }
   ],
   "source": [
    "import matplotlib.pyplot as PLT\n",
    "from matplotlib.offsetbox import AnnotationBbox, OffsetImage\n",
    "from matplotlib._png import read_png\n",
    "\n",
    "# Create the Figure\n",
    "fig = PLT.gcf()\n",
    "fig.clf() # Clear the Figure\n",
    "ax = PLT.subplot(111) # Create a subplot\n",
    "\n",
    "for i in range(0, pca_2d.shape[0]):\n",
    "    arr_img = orig_img[i] # Take the Image from the array of Images\n",
    "    imagebox = OffsetImage(arr_img, zoom=.1) # Create Image Box with Offset\n",
    "    xy = [pca_2d[i,0],pca_2d[i,1]]  # Get the coordinates to position this image from PCA Value\n",
    "    # Cteate the Annotation Box\n",
    "    ab = AnnotationBbox(imagebox, xy,\n",
    "        xybox=(30., -30.), # Set the size of the Box\n",
    "        xycoords='data',\n",
    "        boxcoords=\"offset points\")                                  \n",
    "    ax.add_artist(ab)\n",
    "\n",
    "# Set the X and Y axis Span to fit all the images in the window\n",
    "ax.set_xlim(xmin=-80,xmax=100)\n",
    "ax.set_ylim(ymin=-80,ymax=80)\n",
    "plt.title(\"Fig 6 : Player Images Over the 2D Space\")\n",
    "plt.savefig(\"PlotImages.png\")\n",
    "PLT.draw()\n",
    "PLT.show()"
   ]
  },
  {
   "cell_type": "markdown",
   "metadata": {},
   "source": [
    "#### Part II - Section 9 :\n",
    "#### Face Detection with One Shot Learning\n",
    "\n",
    "With the above face embedding we can create a face detector using One Shot Learning, where we will save a single image of each person and compare their embedding with the embedding of the face detected in the camera screen. \n",
    "\n",
    "One major advantage is we do not have to train the model with new faces, when a new person's image has been added to our database it will automatically compare the embedding with that image and classify it."
   ]
  },
  {
   "cell_type": "markdown",
   "metadata": {},
   "source": [
    "Create a database with images captured by the webcam of the laptop - \n",
    "\n",
    "Method - \n",
    "   1. Run the following code\n",
    "   2. Press Enter to capture the images stored in the Dataset/FaceDetector Folder\n",
    "   3. Take the best picture rename the files with the actual name and discard others\n",
    "   4. Press Esc to close the window"
   ]
  },
  {
   "cell_type": "code",
   "execution_count": 3,
   "metadata": {},
   "outputs": [],
   "source": [
    "import glob\n",
    "import cv2\n",
    "import os"
   ]
  },
  {
   "cell_type": "code",
   "execution_count": 4,
   "metadata": {},
   "outputs": [],
   "source": [
    "def createDataset():\n",
    "    cam = cv2.VideoCapture(0)\n",
    "\n",
    "    face_detector = cv2.CascadeClassifier('haarcascades/haarcascade_frontalface_default.xml')\n",
    "\n",
    "    count = 0\n",
    "    while(True):\n",
    "        ret, img = cam.read()\n",
    "        #gray = cv2.cvtColor(img, cv2.COLOR_BGR2GRAY)\n",
    "        faces = face_detector.detectMultiScale(img, 1.3, 5)\n",
    "        for (x,y,w,h) in faces:\n",
    "            x1 = x\n",
    "            y1 = y\n",
    "            x2 = x+w\n",
    "            y2 = y+h\n",
    "            cv2.rectangle(img, (x1,y1), (x2,y2), (255,255,255), 2)     \n",
    "            count += 1\n",
    "            cv2.imshow('image', img)\n",
    "\n",
    "        k = cv2.waitKey(200) & 0xff # Press 'ESC' for exiting video\n",
    "        if k == 27:\n",
    "            break\n",
    "        elif k == 13: # Press Enter to capture the images detected in the screen\n",
    "            # Save the captured image into the datasets folder\n",
    "            cv2.imwrite(\"Dataset/FaceDetector/User_\" + str(count) + \".jpg\", img[y1:y2,x1:x2])\n",
    "\n",
    "    cam.release()\n",
    "    cv2.destroyAllWindows()"
   ]
  },
  {
   "cell_type": "code",
   "execution_count": 5,
   "metadata": {},
   "outputs": [],
   "source": [
    "# Call CreateDataset() function\n",
    "createDataset()"
   ]
  },
  {
   "cell_type": "markdown",
   "metadata": {},
   "source": [
    "#### Create embedding Dictionary for the Database Images\n",
    "\n",
    "We will now create a dictionary of embedding vectors for each image from our database, key will be the name of the file and value will be the embedding vectors."
   ]
  },
  {
   "cell_type": "code",
   "execution_count": 6,
   "metadata": {},
   "outputs": [],
   "source": [
    "def create_input_image_embeddings():\n",
    "    input_embeddings = {}\n",
    "\n",
    "    for file in glob.glob(\"Dataset/FaceDetector/*.jpg\"):\n",
    "        person_name = os.path.splitext(os.path.basename(file))[0]\n",
    "        #print(person_name)\n",
    "        image_file = cv2.imread(file, 1) # read the image\n",
    "        # Convert the image in correct shape required for our Model\n",
    "        img = cv2.resize(image_file,(224,224)) \n",
    "        img = np.expand_dims(img, axis=0)\n",
    "        input_embeddings[person_name] = vgg_face_descriptor.predict(img)[0,:] # Save the embeddings for the image \n",
    "                                                                              # in the dictionary\n",
    "    return input_embeddings"
   ]
  },
  {
   "cell_type": "markdown",
   "metadata": {},
   "source": [
    "##### Create the Face Recognition function \n",
    "\n",
    "Logic :\n",
    "   * Detect the faces with in the camera window\n",
    "   * For each face detected in the window calculate the embedding and compare the euclidean distance with the images stored in the  database\n",
    "   * Return a match when the euclidean distance is less than a pre-defined threshold\n",
    "   * This threshold needs to be adjusted according to the data"
   ]
  },
  {
   "cell_type": "code",
   "execution_count": null,
   "metadata": {},
   "outputs": [],
   "source": [
    "def recognize_face(face_image, input_embeddings):\n",
    "    # Inputs: \n",
    "    # face_image - input image\n",
    "    # input_embeddings - dictionary containing the embedding of database images\n",
    "    \n",
    "    # Resize the images according to the expected input of the model\n",
    "    face_image = cv2.resize(face_image,(224,224))\n",
    "    face_image = np.expand_dims(face_image,axis=0)\n",
    "    embedding = vgg_face_descriptor.predict(face_image)[0,:] # get the embedding\n",
    "    \n",
    "    minimum_distance = 200\n",
    "    name = None\n",
    "    \n",
    "    # Loop over  names and encodings.\n",
    "    for (input_name, input_embedding) in input_embeddings.items():\n",
    "        \n",
    "        # Calculate theDistances\n",
    "        euclidean_distance = np.linalg.norm(embedding-input_embedding)\n",
    "        \n",
    "\n",
    "        print('Euclidean distance from %s is %s' %(input_name, euclidean_distance))\n",
    "\n",
    "        \n",
    "        if euclidean_distance < minimum_distance:\n",
    "            minimum_distance = euclidean_distance\n",
    "            name = input_name\n",
    "    \n",
    "    # Distance Threshold as 100 (change this value accordingly)\n",
    "    if minimum_distance < 100:\n",
    "        return str(name +\":\" + str(euclidean_distance))\n",
    "    else:\n",
    "        return None"
   ]
  },
  {
   "cell_type": "markdown",
   "metadata": {},
   "source": [
    "#### Detect images through webcam and show the detected labels with the distances"
   ]
  },
  {
   "cell_type": "code",
   "execution_count": 7,
   "metadata": {},
   "outputs": [],
   "source": [
    "def recognize_faces_in_cam(input_embeddings):\n",
    "    \n",
    "\n",
    "    cv2.namedWindow(\"Face Recognizer\")\n",
    "    vc = cv2.VideoCapture(0)\n",
    "   \n",
    "\n",
    "    font = cv2.FONT_HERSHEY_SIMPLEX\n",
    "    face_cascade = cv2.CascadeClassifier('haarcascades/haarcascade_frontalface_default.xml')\n",
    "    \n",
    "    \n",
    "    while vc.isOpened():\n",
    "        _, frame = vc.read()\n",
    "        img = frame\n",
    "        height, width, channels = frame.shape\n",
    "\n",
    "        \n",
    "        \n",
    "        gray = cv2.cvtColor(frame, cv2.COLOR_BGR2GRAY)\n",
    "        faces = face_cascade.detectMultiScale(gray, 1.3, 5)\n",
    "\n",
    "        # Loop through all the faces detected \n",
    "        identities = []\n",
    "        for (x, y, w, h) in faces:\n",
    "            x1 = x\n",
    "            y1 = y\n",
    "            x2 = x+w\n",
    "            y2 = y+h\n",
    "\n",
    "           \n",
    "            \n",
    "            face_image = frame[max(0, y1):min(height, y2), max(0, x1):min(width, x2)]   \n",
    "            \n",
    "            # Identify the faces detected in the cam\n",
    "            identity = recognize_face(face_image, input_embeddings)\n",
    "\n",
    "            if identity is not None:\n",
    "                img = cv2.rectangle(frame,(x1, y1),(x2, y2),(255,255,255),2)\n",
    "                cv2.putText(img, str(identity), (x1+5,y1-5), font, 1, (255,255,255), 2) # show the name \n",
    "        \n",
    "        key = cv2.waitKey(100)\n",
    "        cv2.imshow(\"Face Recognizer\", img)\n",
    "\n",
    "        if key == 27: # exit on ESC\n",
    "            break\n",
    "    vc.release()\n",
    "    cv2.destroyAllWindows()\n"
   ]
  },
  {
   "cell_type": "code",
   "execution_count": null,
   "metadata": {},
   "outputs": [],
   "source": [
    "# Call the functions to start the detector\n",
    "input_embeddings = create_input_image_embeddings()\n",
    "recognize_faces_in_cam(input_embeddings)"
   ]
  },
  {
   "cell_type": "markdown",
   "metadata": {},
   "source": [
    "#### Reference: \n",
    "\n",
    " * http://www.robots.ox.ac.uk/~vgg/publications/2015/Parkhi15/parkhi15.pdf\n",
    " * http://www.robots.ox.ac.uk/~vgg/publications/2015/Parkhi15/poster.pdf\n",
    " * (VGG Facenet.). Retrieved from http://www.robots.ox.ac.uk/~vgg/software/vgg_face/\n",
    " * Grauturgrautur 12.3k3185119, Dougdoug 55.3k17141186, PaoloPaolo 2, Rymurrrymurr 341211, Greg SnowGreg Snow 40.8k35988, & Ch3och3o 111. (n.d.). Placing Custom Images in a Plot Window--as custom data markers or to annotate those markers. Retrieved from https://stackoverflow.com/questions/4860417/placing-custom-images-in-a-plot-window-as-custom-data-markers-or-to-annotate-t\n",
    " * How to Visualize the Clusters in a K-Means Unsupervised Learning Model. (n.d.). Retrieved from https://www.dummies.com/programming/big-data/data-science/how-to-visualize-the-clusters-in-a-k-means-unsupervised-learning-model/\n",
    " * Tutorial: How to determine the optimal number of clusters for k-means clustering. (n.d.). Retrieved from https://blog.cambridgespark.com/how-to-determine-the-optimal-number-of-clusters-for-k-means-clustering-14f27070048f\n",
    " * Joshi, S., & Joshi, S. (2018, October 14). Face recognizer application using a deep learning model (Python and Keras). Retrieved from https://medium.com/@sumantrajoshi/face-recognizer-application-using-a-deep-learning-model-python-and-keras-2873e9aa6ab3"
   ]
  }
 ],
 "metadata": {
  "kernelspec": {
   "display_name": "Python 3",
   "language": "python",
   "name": "python3"
  },
  "language_info": {
   "codemirror_mode": {
    "name": "ipython",
    "version": 3
   },
   "file_extension": ".py",
   "mimetype": "text/x-python",
   "name": "python",
   "nbconvert_exporter": "python",
   "pygments_lexer": "ipython3",
   "version": "3.6.5"
  }
 },
 "nbformat": 4,
 "nbformat_minor": 2
}
